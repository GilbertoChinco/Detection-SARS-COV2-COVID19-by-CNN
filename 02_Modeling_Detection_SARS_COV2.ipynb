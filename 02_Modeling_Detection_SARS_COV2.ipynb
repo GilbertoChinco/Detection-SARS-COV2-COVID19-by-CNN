{
  "nbformat": 4,
  "nbformat_minor": 0,
  "metadata": {
    "colab": {
      "name": "02_Modeling_Detection_SARS_COV2.ipynb",
      "provenance": [],
      "collapsed_sections": []
    },
    "kernelspec": {
      "name": "python3",
      "display_name": "Python 3"
    },
    "language_info": {
      "name": "python"
    },
    "accelerator": "GPU"
  },
  "cells": [
    {
      "cell_type": "code",
      "metadata": {
        "id": "h94YigTBHXpr"
      },
      "source": [
        "import numpy as np"
      ],
      "execution_count": 1,
      "outputs": []
    },
    {
      "cell_type": "markdown",
      "metadata": {
        "id": "-bJPgKSA052G"
      },
      "source": [
        "\n",
        "# Data Modeling\n",
        "\n",
        "In this part of the project is define the architectures of the Convolutional Neural Network, "
      ]
    },
    {
      "cell_type": "code",
      "metadata": {
        "colab": {
          "base_uri": "https://localhost:8080/"
        },
        "id": "324aXEYgHd68",
        "outputId": "4ab1b476-a7d2-4d21-88be-452a18f8dd2a"
      },
      "source": [
        "from google.colab import drive\n",
        "\n",
        "drive.mount('/content/drive')"
      ],
      "execution_count": 2,
      "outputs": [
        {
          "output_type": "stream",
          "name": "stdout",
          "text": [
            "Drive already mounted at /content/drive; to attempt to forcibly remount, call drive.mount(\"/content/drive\", force_remount=True).\n"
          ]
        }
      ]
    },
    {
      "cell_type": "code",
      "metadata": {
        "id": "9LA0kehF0yOi"
      },
      "source": [
        "X = np.load(\"/content/drive/MyDrive/Dataset_image.npy\")\n",
        "y = np.load(\"/content/drive/MyDrive/Label_image.npy\")"
      ],
      "execution_count": 3,
      "outputs": []
    },
    {
      "cell_type": "markdown",
      "metadata": {
        "id": "GXgku0Yr00zt"
      },
      "source": [
        "Analyze the shape of the dataset"
      ]
    },
    {
      "cell_type": "code",
      "metadata": {
        "colab": {
          "base_uri": "https://localhost:8080/"
        },
        "id": "5HbofZYf00MB",
        "outputId": "dde50915-e5dc-404a-cfd9-8b2299c90520"
      },
      "source": [
        "X.shape, y.shape"
      ],
      "execution_count": 4,
      "outputs": [
        {
          "output_type": "execute_result",
          "data": {
            "text/plain": [
              "((13807, 299, 299), (13807,))"
            ]
          },
          "metadata": {},
          "execution_count": 4
        }
      ]
    },
    {
      "cell_type": "markdown",
      "metadata": {
        "id": "D1iupk2O1rev"
      },
      "source": [
        "Spli the dataset in Train set & Test set"
      ]
    },
    {
      "cell_type": "code",
      "metadata": {
        "id": "aipODmxn3jnz"
      },
      "source": [
        "from sklearn.model_selection import train_test_split"
      ],
      "execution_count": 5,
      "outputs": []
    },
    {
      "cell_type": "code",
      "metadata": {
        "colab": {
          "base_uri": "https://localhost:8080/"
        },
        "id": "5utgHaLZ1vbB",
        "outputId": "0564bfa3-864c-478d-898d-04cffb3b59d2"
      },
      "source": [
        "X_train, X_test, y_train, y_test = train_test_split(X, y, test_size = 0.20, random_state = 13)\n",
        "print(\"Traininig data shape : {} {}\".format(X_train.shape, y_train.shape))\n",
        "print(\"Testing data shape : {} {}\".format(X_test.shape, y_test.shape))"
      ],
      "execution_count": 6,
      "outputs": [
        {
          "output_type": "stream",
          "name": "stdout",
          "text": [
            "Traininig data shape : (11045, 299, 299) (11045,)\n",
            "Testing data shape : (2762, 299, 299) (2762,)\n"
          ]
        }
      ]
    },
    {
      "cell_type": "markdown",
      "metadata": {
        "id": "pVgWX_qv163W"
      },
      "source": [
        "**Data Normalization** \n",
        "\n",
        "For each image let prepare to normalize the data\n",
        "* redefine the dimension of the images to (299, 299)\n",
        "* One image have (y, x) - (299, 299) pixeles, and the type of the value for the image a unsigned 8-bit integer witha values between (0 - 255), so the normalization is to map those value to (0 - 1)"
      ]
    },
    {
      "cell_type": "code",
      "metadata": {
        "colab": {
          "base_uri": "https://localhost:8080/"
        },
        "id": "MUGRTycq2EMQ",
        "outputId": "43f1bf5c-f779-40c8-c091-2c9e84899a94"
      },
      "source": [
        "X_train = X_train.reshape(-1, 299, 299, 1)\n",
        "X_test = X_test.reshape(-1, 299, 299, 1)\n",
        "X_train.shape, X_test.shape"
      ],
      "execution_count": 7,
      "outputs": [
        {
          "output_type": "execute_result",
          "data": {
            "text/plain": [
              "((11045, 299, 299, 1), (2762, 299, 299, 1))"
            ]
          },
          "metadata": {},
          "execution_count": 7
        }
      ]
    },
    {
      "cell_type": "code",
      "metadata": {
        "id": "G65_Ccb42M0n"
      },
      "source": [
        "X_train = X_train.astype(\"float32\")\n",
        "X_test = X_test.astype(\"float32\")\n",
        "X_train = X_train / 255\n",
        "X_test = X_test / 255"
      ],
      "execution_count": 8,
      "outputs": []
    },
    {
      "cell_type": "markdown",
      "metadata": {
        "id": "3xwdoS3wKClg"
      },
      "source": [
        "**Split** data into test set & validation set"
      ]
    },
    {
      "cell_type": "code",
      "metadata": {
        "colab": {
          "base_uri": "https://localhost:8080/"
        },
        "id": "0GxKqtzyKA9W",
        "outputId": "ed398f33-a309-4904-9a88-633c7844bde2"
      },
      "source": [
        "X_train, X_valid, train_label, valid_label = train_test_split(X_train, y_train, test_size = 0.20, random_state = 13)\n",
        "X_train.shape, X_valid.shape, train_label.shape, valid_label.shape"
      ],
      "execution_count": 9,
      "outputs": [
        {
          "output_type": "execute_result",
          "data": {
            "text/plain": [
              "((8836, 299, 299, 1), (2209, 299, 299, 1), (8836,), (2209,))"
            ]
          },
          "metadata": {},
          "execution_count": 9
        }
      ]
    },
    {
      "cell_type": "markdown",
      "metadata": {
        "id": "KM03uJGe3ZlI"
      },
      "source": [
        "## Data Modeling"
      ]
    },
    {
      "cell_type": "markdown",
      "metadata": {
        "id": "16gCsLc7F6uW"
      },
      "source": [
        "The images are of size 299 x 299. and feed this as an input to the network\n",
        "\n",
        "Let's import all the necessary modules required"
      ]
    },
    {
      "cell_type": "code",
      "metadata": {
        "id": "Dt7h-em13bP9"
      },
      "source": [
        "import keras\n",
        "import tensorflow as tf\n",
        "from keras.models import Sequential,Input,Model\n",
        "from keras.layers import Dense, Dropout, Flatten\n",
        "from keras.layers import Conv2D, MaxPooling2D\n",
        "from tensorflow.keras.layers import BatchNormalization\n",
        "from keras.layers.advanced_activations import LeakyReLU"
      ],
      "execution_count": 10,
      "outputs": []
    },
    {
      "cell_type": "code",
      "metadata": {
        "colab": {
          "base_uri": "https://localhost:8080/"
        },
        "id": "kwn1jotA3zg9",
        "outputId": "c13d8e6d-dd9e-4184-ab50-9e958e981987"
      },
      "source": [
        "!nvidia-smi"
      ],
      "execution_count": 11,
      "outputs": [
        {
          "output_type": "stream",
          "name": "stdout",
          "text": [
            "Fri Nov 26 23:16:50 2021       \n",
            "+-----------------------------------------------------------------------------+\n",
            "| NVIDIA-SMI 495.44       Driver Version: 460.32.03    CUDA Version: 11.2     |\n",
            "|-------------------------------+----------------------+----------------------+\n",
            "| GPU  Name        Persistence-M| Bus-Id        Disp.A | Volatile Uncorr. ECC |\n",
            "| Fan  Temp  Perf  Pwr:Usage/Cap|         Memory-Usage | GPU-Util  Compute M. |\n",
            "|                               |                      |               MIG M. |\n",
            "|===============================+======================+======================|\n",
            "|   0  Tesla K80           Off  | 00000000:00:04.0 Off |                    0 |\n",
            "| N/A   60C    P8    31W / 149W |      0MiB / 11441MiB |      0%      Default |\n",
            "|                               |                      |                  N/A |\n",
            "+-------------------------------+----------------------+----------------------+\n",
            "                                                                               \n",
            "+-----------------------------------------------------------------------------+\n",
            "| Processes:                                                                  |\n",
            "|  GPU   GI   CI        PID   Type   Process name                  GPU Memory |\n",
            "|        ID   ID                                                   Usage      |\n",
            "|=============================================================================|\n",
            "|  No running processes found                                                 |\n",
            "+-----------------------------------------------------------------------------+\n"
          ]
        }
      ]
    },
    {
      "cell_type": "markdown",
      "metadata": {
        "id": "IhxB400kIT-C"
      },
      "source": [
        "Define the batch size and epochs"
      ]
    },
    {
      "cell_type": "code",
      "metadata": {
        "id": "3OZY7TwV338c"
      },
      "source": [
        "batch_size = 64\n",
        "epochs = 20"
      ],
      "execution_count": 12,
      "outputs": []
    },
    {
      "cell_type": "markdown",
      "metadata": {
        "id": "TN50jK6_GO8t"
      },
      "source": [
        "Convolutional layers:\n",
        "* First layer will have 32 - 3 x 3 filterss\n",
        "* Second layer  will have 64  - 3 x 3 filters\n",
        "* Third layer will have 128 - 3 x 3 filters \n",
        "* Three max poolig layer  2 x 2\n",
        "* Dropout layers"
      ]
    },
    {
      "cell_type": "code",
      "metadata": {
        "colab": {
          "base_uri": "https://localhost:8080/"
        },
        "id": "TkpRPtWU37J1",
        "outputId": "623ee248-9348-43dd-d587-9e8a3446a532"
      },
      "source": [
        "cnn_model_covid_norma = Sequential()\n",
        "cnn_model_covid_norma.add(Conv2D(32, kernel_size=(5, 5), activation='linear', padding='same', input_shape=(299, 299, 1)))\n",
        "cnn_model_covid_norma.add(LeakyReLU(alpha = 0.1))\n",
        "cnn_model_covid_norma.add(MaxPooling2D((4, 4), padding = 'same'))\n",
        "cnn_model_covid_norma.add(Dropout(0.25))\n",
        "cnn_model_covid_norma.add(Conv2D(64, (5, 5), activation='linear', padding = 'same'))\n",
        "cnn_model_covid_norma.add(LeakyReLU(alpha = 0.1))\n",
        "cnn_model_covid_norma.add(MaxPooling2D(pool_size = (4, 4), padding = 'same'))\n",
        "cnn_model_covid_norma.add(Dropout(0.25))\n",
        "cnn_model_covid_norma.add(Conv2D(128, (5, 5), activation = 'linear', padding = 'same'))\n",
        "cnn_model_covid_norma.add(LeakyReLU(alpha = 0.1))                  \n",
        "cnn_model_covid_norma.add(MaxPooling2D(pool_size = (4, 4), padding = 'same'))\n",
        "cnn_model_covid_norma.add(Dropout(0.4))\n",
        "cnn_model_covid_norma.add(Flatten())\n",
        "cnn_model_covid_norma.add(Dense(128, activation=\"linear\"))\n",
        "cnn_model_covid_norma.add(LeakyReLU(alpha=0.1)) \n",
        "cnn_model_covid_norma.add(Dropout(0.3))\n",
        "cnn_model_covid_norma.add(Dense(1, activation='sigmoid'))\n",
        "cnn_model_covid_norma.summary()"
      ],
      "execution_count": 13,
      "outputs": [
        {
          "output_type": "stream",
          "name": "stdout",
          "text": [
            "Model: \"sequential\"\n",
            "_________________________________________________________________\n",
            " Layer (type)                Output Shape              Param #   \n",
            "=================================================================\n",
            " conv2d (Conv2D)             (None, 299, 299, 32)      832       \n",
            "                                                                 \n",
            " leaky_re_lu (LeakyReLU)     (None, 299, 299, 32)      0         \n",
            "                                                                 \n",
            " max_pooling2d (MaxPooling2D  (None, 75, 75, 32)       0         \n",
            " )                                                               \n",
            "                                                                 \n",
            " dropout (Dropout)           (None, 75, 75, 32)        0         \n",
            "                                                                 \n",
            " conv2d_1 (Conv2D)           (None, 75, 75, 64)        51264     \n",
            "                                                                 \n",
            " leaky_re_lu_1 (LeakyReLU)   (None, 75, 75, 64)        0         \n",
            "                                                                 \n",
            " max_pooling2d_1 (MaxPooling  (None, 19, 19, 64)       0         \n",
            " 2D)                                                             \n",
            "                                                                 \n",
            " dropout_1 (Dropout)         (None, 19, 19, 64)        0         \n",
            "                                                                 \n",
            " conv2d_2 (Conv2D)           (None, 19, 19, 128)       204928    \n",
            "                                                                 \n",
            " leaky_re_lu_2 (LeakyReLU)   (None, 19, 19, 128)       0         \n",
            "                                                                 \n",
            " max_pooling2d_2 (MaxPooling  (None, 5, 5, 128)        0         \n",
            " 2D)                                                             \n",
            "                                                                 \n",
            " dropout_2 (Dropout)         (None, 5, 5, 128)         0         \n",
            "                                                                 \n",
            " flatten (Flatten)           (None, 3200)              0         \n",
            "                                                                 \n",
            " dense (Dense)               (None, 128)               409728    \n",
            "                                                                 \n",
            " leaky_re_lu_3 (LeakyReLU)   (None, 128)               0         \n",
            "                                                                 \n",
            " dropout_3 (Dropout)         (None, 128)               0         \n",
            "                                                                 \n",
            " dense_1 (Dense)             (None, 1)                 129       \n",
            "                                                                 \n",
            "=================================================================\n",
            "Total params: 666,881\n",
            "Trainable params: 666,881\n",
            "Non-trainable params: 0\n",
            "_________________________________________________________________\n"
          ]
        }
      ]
    },
    {
      "cell_type": "markdown",
      "metadata": {
        "id": "_33MOAwGKSyc"
      },
      "source": [
        "**Compile the model**\n",
        "\n",
        "Compile the model:\n",
        "* using the Adam Optimizer\n",
        "* The loss type which is Binaray Cross Entropy ** 0 - \"Normal\" & 1 - \"COVID\"**"
      ]
    },
    {
      "cell_type": "code",
      "metadata": {
        "id": "pAb9dOCu39-V"
      },
      "source": [
        "cnn_model_covid_norma.compile(loss = keras.losses.binary_crossentropy, optimizer = tf.keras.optimizers.Adam(), metrics = ['accuracy'])"
      ],
      "execution_count": 14,
      "outputs": []
    },
    {
      "cell_type": "markdown",
      "metadata": {
        "id": "nXxDB6t7LSN8"
      },
      "source": [
        "Let's visualize the layers with the summay function to see the parameters (weigths and biases) in each layer and also the total parameters in the model"
      ]
    },
    {
      "cell_type": "code",
      "metadata": {
        "colab": {
          "base_uri": "https://localhost:8080/"
        },
        "id": "zqBj-ZAxLkDC",
        "outputId": "d04583bb-5acb-43b4-ff8d-ca06f57b7b38"
      },
      "source": [
        "cnn_model_covid_norma.summary()"
      ],
      "execution_count": 15,
      "outputs": [
        {
          "output_type": "stream",
          "name": "stdout",
          "text": [
            "Model: \"sequential\"\n",
            "_________________________________________________________________\n",
            " Layer (type)                Output Shape              Param #   \n",
            "=================================================================\n",
            " conv2d (Conv2D)             (None, 299, 299, 32)      832       \n",
            "                                                                 \n",
            " leaky_re_lu (LeakyReLU)     (None, 299, 299, 32)      0         \n",
            "                                                                 \n",
            " max_pooling2d (MaxPooling2D  (None, 75, 75, 32)       0         \n",
            " )                                                               \n",
            "                                                                 \n",
            " dropout (Dropout)           (None, 75, 75, 32)        0         \n",
            "                                                                 \n",
            " conv2d_1 (Conv2D)           (None, 75, 75, 64)        51264     \n",
            "                                                                 \n",
            " leaky_re_lu_1 (LeakyReLU)   (None, 75, 75, 64)        0         \n",
            "                                                                 \n",
            " max_pooling2d_1 (MaxPooling  (None, 19, 19, 64)       0         \n",
            " 2D)                                                             \n",
            "                                                                 \n",
            " dropout_1 (Dropout)         (None, 19, 19, 64)        0         \n",
            "                                                                 \n",
            " conv2d_2 (Conv2D)           (None, 19, 19, 128)       204928    \n",
            "                                                                 \n",
            " leaky_re_lu_2 (LeakyReLU)   (None, 19, 19, 128)       0         \n",
            "                                                                 \n",
            " max_pooling2d_2 (MaxPooling  (None, 5, 5, 128)        0         \n",
            " 2D)                                                             \n",
            "                                                                 \n",
            " dropout_2 (Dropout)         (None, 5, 5, 128)         0         \n",
            "                                                                 \n",
            " flatten (Flatten)           (None, 3200)              0         \n",
            "                                                                 \n",
            " dense (Dense)               (None, 128)               409728    \n",
            "                                                                 \n",
            " leaky_re_lu_3 (LeakyReLU)   (None, 128)               0         \n",
            "                                                                 \n",
            " dropout_3 (Dropout)         (None, 128)               0         \n",
            "                                                                 \n",
            " dense_1 (Dense)             (None, 1)                 129       \n",
            "                                                                 \n",
            "=================================================================\n",
            "Total params: 666,881\n",
            "Trainable params: 666,881\n",
            "Non-trainable params: 0\n",
            "_________________________________________________________________\n"
          ]
        }
      ]
    },
    {
      "cell_type": "markdown",
      "metadata": {
        "id": "dZZn8OpRLoew"
      },
      "source": [
        "**Train the model**"
      ]
    },
    {
      "cell_type": "code",
      "metadata": {
        "colab": {
          "base_uri": "https://localhost:8080/"
        },
        "id": "fuBIno0MK9hi",
        "outputId": "542e6c58-5c5f-4b94-ee40-f0a9873003e8"
      },
      "source": [
        "cnn_train_dropout = cnn_model_covid_norma.fit(X_train, train_label, batch_size = batch_size, epochs = epochs, verbose = 1, validation_data = (X_valid, valid_label))"
      ],
      "execution_count": 16,
      "outputs": [
        {
          "output_type": "stream",
          "name": "stdout",
          "text": [
            "Epoch 1/20\n",
            "139/139 [==============================] - 40s 200ms/step - loss: 0.4903 - accuracy: 0.7679 - val_loss: 0.2771 - val_accuracy: 0.8895\n",
            "Epoch 2/20\n",
            "139/139 [==============================] - 26s 184ms/step - loss: 0.2456 - accuracy: 0.9033 - val_loss: 0.1715 - val_accuracy: 0.9398\n",
            "Epoch 3/20\n",
            "139/139 [==============================] - 26s 184ms/step - loss: 0.1742 - accuracy: 0.9319 - val_loss: 0.1541 - val_accuracy: 0.9434\n",
            "Epoch 4/20\n",
            "139/139 [==============================] - 26s 184ms/step - loss: 0.1547 - accuracy: 0.9404 - val_loss: 0.1240 - val_accuracy: 0.9574\n",
            "Epoch 5/20\n",
            "139/139 [==============================] - 26s 184ms/step - loss: 0.1288 - accuracy: 0.9498 - val_loss: 0.1143 - val_accuracy: 0.9588\n",
            "Epoch 6/20\n",
            "139/139 [==============================] - 26s 184ms/step - loss: 0.1058 - accuracy: 0.9581 - val_loss: 0.1171 - val_accuracy: 0.9547\n",
            "Epoch 7/20\n",
            "139/139 [==============================] - 26s 184ms/step - loss: 0.0934 - accuracy: 0.9644 - val_loss: 0.1098 - val_accuracy: 0.9642\n",
            "Epoch 8/20\n",
            "139/139 [==============================] - 25s 183ms/step - loss: 0.0764 - accuracy: 0.9715 - val_loss: 0.0932 - val_accuracy: 0.9674\n",
            "Epoch 9/20\n",
            "139/139 [==============================] - 26s 184ms/step - loss: 0.0750 - accuracy: 0.9720 - val_loss: 0.0904 - val_accuracy: 0.9692\n",
            "Epoch 10/20\n",
            "139/139 [==============================] - 25s 183ms/step - loss: 0.0652 - accuracy: 0.9751 - val_loss: 0.0982 - val_accuracy: 0.9670\n",
            "Epoch 11/20\n",
            "139/139 [==============================] - 26s 184ms/step - loss: 0.0592 - accuracy: 0.9786 - val_loss: 0.0920 - val_accuracy: 0.9719\n",
            "Epoch 12/20\n",
            "139/139 [==============================] - 26s 184ms/step - loss: 0.0576 - accuracy: 0.9791 - val_loss: 0.0851 - val_accuracy: 0.9774\n",
            "Epoch 13/20\n",
            "139/139 [==============================] - 26s 184ms/step - loss: 0.0711 - accuracy: 0.9737 - val_loss: 0.0739 - val_accuracy: 0.9792\n",
            "Epoch 14/20\n",
            "139/139 [==============================] - 25s 184ms/step - loss: 0.0503 - accuracy: 0.9802 - val_loss: 0.1517 - val_accuracy: 0.9470\n",
            "Epoch 15/20\n",
            "139/139 [==============================] - 26s 184ms/step - loss: 0.0775 - accuracy: 0.9696 - val_loss: 0.0765 - val_accuracy: 0.9765\n",
            "Epoch 16/20\n",
            "139/139 [==============================] - 26s 184ms/step - loss: 0.0511 - accuracy: 0.9820 - val_loss: 0.0889 - val_accuracy: 0.9769\n",
            "Epoch 17/20\n",
            "139/139 [==============================] - 26s 184ms/step - loss: 0.0351 - accuracy: 0.9874 - val_loss: 0.0751 - val_accuracy: 0.9792\n",
            "Epoch 18/20\n",
            "139/139 [==============================] - 25s 183ms/step - loss: 0.0323 - accuracy: 0.9885 - val_loss: 0.0646 - val_accuracy: 0.9801\n",
            "Epoch 19/20\n",
            "139/139 [==============================] - 26s 184ms/step - loss: 0.0378 - accuracy: 0.9863 - val_loss: 0.0856 - val_accuracy: 0.9742\n",
            "Epoch 20/20\n",
            "139/139 [==============================] - 26s 185ms/step - loss: 0.0291 - accuracy: 0.9883 - val_loss: 0.0712 - val_accuracy: 0.9774\n"
          ]
        }
      ]
    },
    {
      "cell_type": "markdown",
      "metadata": {
        "id": "hEoAr0DpTbNy"
      },
      "source": [
        "Let's save the model so that you can directly load it and not have to train it again for 20 epochs. Thisway, we can load the model later on if you need it and modify the architecture; Alternatively, you can start the training process on this saved model."
      ]
    },
    {
      "cell_type": "code",
      "metadata": {
        "colab": {
          "base_uri": "https://localhost:8080/"
        },
        "id": "apDR2A944Beo",
        "outputId": "44616b79-9f73-4f95-de2d-f2e911e32935"
      },
      "source": [
        "cnn_model_covid_norma.save(\"CNN_model_normal_covid.h5py\")"
      ],
      "execution_count": 18,
      "outputs": [
        {
          "output_type": "stream",
          "name": "stdout",
          "text": [
            "INFO:tensorflow:Assets written to: CNN_model_normal_covid.h5py/assets\n"
          ]
        }
      ]
    },
    {
      "cell_type": "markdown",
      "metadata": {
        "id": "6HKqVLCdVFHG"
      },
      "source": [
        "# Model Evaluation on the Test Set"
      ]
    },
    {
      "cell_type": "markdown",
      "metadata": {
        "id": "7emEun5_Vgak"
      },
      "source": [
        "Evaluate the model"
      ]
    },
    {
      "cell_type": "code",
      "metadata": {
        "colab": {
          "base_uri": "https://localhost:8080/"
        },
        "id": "jYANVJhtUvoA",
        "outputId": "7c0d9152-67ea-49f5-8982-0ab644f253fc"
      },
      "source": [
        "test_eval = cnn_model_covid_norma.evaluate(X_test, y_test, verbose=0)\n",
        "print('Test loss:', test_eval[0])\n",
        "print('Test accuracy:', test_eval[1])"
      ],
      "execution_count": 19,
      "outputs": [
        {
          "output_type": "stream",
          "name": "stdout",
          "text": [
            "Test loss: 0.055689066648483276\n",
            "Test accuracy: 0.9800869226455688\n"
          ]
        }
      ]
    },
    {
      "cell_type": "code",
      "metadata": {
        "colab": {
          "base_uri": "https://localhost:8080/"
        },
        "id": "kqmICo6fUxO8",
        "outputId": "50a6a967-70f2-42fe-ad81-cd1cc5309b06"
      },
      "source": [
        "cnn_train_dropout.history"
      ],
      "execution_count": 48,
      "outputs": [
        {
          "output_type": "execute_result",
          "data": {
            "text/plain": [
              "{'accuracy': [0.7746717929840088,\n",
              "  0.8645314574241638,\n",
              "  0.9160253405570984,\n",
              "  0.9379810094833374,\n",
              "  0.9517881274223328,\n",
              "  0.9602761268615723,\n",
              "  0.9698958992958069,\n",
              "  0.9633318185806274,\n",
              "  0.9789497256278992,\n",
              "  0.9809868931770325,\n",
              "  0.9875509142875671,\n",
              "  0.9886826872825623,\n",
              "  0.9893617033958435,\n",
              "  0.9891353845596313,\n",
              "  0.9854006171226501,\n",
              "  0.9907197952270508,\n",
              "  0.9890221953392029,\n",
              "  0.9902670979499817,\n",
              "  0.9886826872825623,\n",
              "  0.9938886165618896],\n",
              " 'loss': [0.5017915368080139,\n",
              "  0.31773775815963745,\n",
              "  0.2188471406698227,\n",
              "  0.16644182801246643,\n",
              "  0.1368526667356491,\n",
              "  0.11210157722234726,\n",
              "  0.08345133811235428,\n",
              "  0.09861630946397781,\n",
              "  0.05835631117224693,\n",
              "  0.05040284991264343,\n",
              "  0.03456605225801468,\n",
              "  0.03315690904855728,\n",
              "  0.02920447289943695,\n",
              "  0.028216291218996048,\n",
              "  0.040540847927331924,\n",
              "  0.0250810869038105,\n",
              "  0.03243584930896759,\n",
              "  0.023863650858402252,\n",
              "  0.028109466657042503,\n",
              "  0.01694219559431076],\n",
              " 'val_accuracy': [0.7804436683654785,\n",
              "  0.8691715598106384,\n",
              "  0.9320959448814392,\n",
              "  0.939791738986969,\n",
              "  0.9560887217521667,\n",
              "  0.9556360244750977,\n",
              "  0.961068332195282,\n",
              "  0.9606156349182129,\n",
              "  0.9669533967971802,\n",
              "  0.9646899104118347,\n",
              "  0.9633318185806274,\n",
              "  0.9665006995201111,\n",
              "  0.9687641263008118,\n",
              "  0.9674060940742493,\n",
              "  0.9542779326438904,\n",
              "  0.9624264240264893,\n",
              "  0.9683114290237427,\n",
              "  0.9678587317466736,\n",
              "  0.96966952085495,\n",
              "  0.9705749154090881],\n",
              " 'val_loss': [0.4783659279346466,\n",
              "  0.3069075345993042,\n",
              "  0.19475238025188446,\n",
              "  0.1742817610502243,\n",
              "  0.13722160458564758,\n",
              "  0.1194990873336792,\n",
              "  0.13131682574748993,\n",
              "  0.11716296523809433,\n",
              "  0.1176118329167366,\n",
              "  0.12065401673316956,\n",
              "  0.13180914521217346,\n",
              "  0.11052466928958893,\n",
              "  0.13763801753520966,\n",
              "  0.1196737065911293,\n",
              "  0.14527875185012817,\n",
              "  0.1511414647102356,\n",
              "  0.1575745940208435,\n",
              "  0.13650771975517273,\n",
              "  0.133023202419281,\n",
              "  0.133003368973732]}"
            ]
          },
          "metadata": {},
          "execution_count": 48
        }
      ]
    },
    {
      "cell_type": "markdown",
      "metadata": {
        "id": "rQEeDPo4VvAB"
      },
      "source": [
        "Plot the accuracy and loss plots between trainging and validation data"
      ]
    },
    {
      "cell_type": "code",
      "metadata": {
        "id": "ieGZa87-V3Ft"
      },
      "source": [
        "import matplotlib.pyplot as plt"
      ],
      "execution_count": 20,
      "outputs": []
    },
    {
      "cell_type": "code",
      "metadata": {
        "colab": {
          "base_uri": "https://localhost:8080/",
          "height": 545
        },
        "id": "Uv2mREMpUzEt",
        "outputId": "a224998b-753d-456f-80b1-c583e45f7752"
      },
      "source": [
        "accuracy = cnn_train_dropout.history['accuracy']\n",
        "val_accuracy = cnn_train_dropout.history['val_accuracy']\n",
        "loss = cnn_train_dropout.history['loss']\n",
        "val_loss = cnn_train_dropout.history['val_loss']\n",
        "epochs = range(len(accuracy))\n",
        "plt.plot(epochs, accuracy, 'bo', label='Training accuracy')\n",
        "plt.plot(epochs, val_accuracy, 'b', label='Validation accuracy')\n",
        "plt.title('Training and validation accuracy')\n",
        "plt.legend()\n",
        "plt.figure()\n",
        "plt.plot(epochs, loss, 'bo', label='Training loss')\n",
        "plt.plot(epochs, val_loss, 'b', label='Validation loss')\n",
        "plt.title('Training and validation loss')\n",
        "plt.legend()\n",
        "plt.show()"
      ],
      "execution_count": 21,
      "outputs": [
        {
          "output_type": "display_data",
          "data": {
            "image/png": "[encoded data removed]",
            "text/plain": [
              "<Figure size 432x288 with 1 Axes>"
            ]
          },
          "metadata": {
            "needs_background": "light"
          }
        },
        {
          "output_type": "display_data",
          "data": {
            "image/png": "[encoded data removed]",
            "text/plain": [
              "<Figure size 432x288 with 1 Axes>"
            ]
          },
          "metadata": {
            "needs_background": "light"
          }
        }
      ]
    },
    {
      "cell_type": "markdown",
      "metadata": {
        "id": "ew3tpqaiXUSX"
      },
      "source": [
        "**Predict Labels**"
      ]
    },
    {
      "cell_type": "markdown",
      "metadata": {
        "id": "SC6BzcQpXrXb"
      },
      "source": [
        "Since the predictions you get are floating point values, it will not be feasible to compare the predicted labels with true test labels. So, you will round off the output which will convert the float values into an integer"
      ]
    },
    {
      "cell_type": "code",
      "metadata": {
        "id": "uZXa1ikIU1ny"
      },
      "source": [
        "predicted_classes_2 = []\n",
        "predicted_classes = cnn_model_covid_norma.predict(X_test)\n",
        "for i in predicted_classes:\n",
        "  if i > 0.75:\n",
        "    predicted_classes_2.append(1)\n",
        "  else:\n",
        "    predicted_classes_2.append(0)"
      ],
      "execution_count": 23,
      "outputs": []
    },
    {
      "cell_type": "markdown",
      "metadata": {
        "id": "yhPkhSPtXFwn"
      },
      "source": [
        "**Classification Report**\n",
        "\n",
        "Identify the misclassified classes in more details"
      ]
    },
    {
      "cell_type": "code",
      "metadata": {
        "id": "I6B90YToU65z"
      },
      "source": [
        "from sklearn.metrics import confusion_matrix\n",
        "import itertools"
      ],
      "execution_count": 24,
      "outputs": []
    },
    {
      "cell_type": "code",
      "metadata": {
        "colab": {
          "base_uri": "https://localhost:8080/"
        },
        "id": "DDgAA1wIXkpa",
        "outputId": "72f7d687-391d-47d9-e96c-a95225c8c2a6"
      },
      "source": [
        "from sklearn.metrics import classification_report\n",
        "target_names = [\"Class {}\".format(i) for i in range(2)]\n",
        "print(classification_report(y_test, predicted_classes_2, target_names = target_names))"
      ],
      "execution_count": 25,
      "outputs": [
        {
          "output_type": "stream",
          "name": "stdout",
          "text": [
            "              precision    recall  f1-score   support\n",
            "\n",
            "     Class 0       0.98      0.99      0.98      2068\n",
            "     Class 1       0.98      0.93      0.95       694\n",
            "\n",
            "    accuracy                           0.98      2762\n",
            "   macro avg       0.98      0.96      0.97      2762\n",
            "weighted avg       0.98      0.98      0.98      2762\n",
            "\n"
          ]
        }
      ]
    },
    {
      "cell_type": "markdown",
      "metadata": {
        "id": "W4dEMtZbXC8F"
      },
      "source": [
        "Function Confusion Matrix"
      ]
    },
    {
      "cell_type": "code",
      "metadata": {
        "id": "oiqndoyUU-Lm"
      },
      "source": [
        "def plot_confusion_matrix(cm, classes,\n",
        "                        normalize=False,\n",
        "                        title='Confusion matrix',\n",
        "                        cmap=plt.cm.Blues):\n",
        "    \"\"\"\n",
        "    This function prints and plots the confusion matrix.\n",
        "    Normalization can be applied by setting `normalize=True`.\n",
        "    \"\"\"\n",
        "    plt.imshow(cm, interpolation='nearest', cmap=cmap)\n",
        "    plt.title(title)\n",
        "    plt.colorbar()\n",
        "    tick_marks = np.arange(len(classes))\n",
        "    plt.xticks(tick_marks, classes, rotation=45)\n",
        "    plt.yticks(tick_marks, classes)\n",
        "\n",
        "    if normalize:\n",
        "        cm = cm.astype('float') / cm.sum(axis=1)[:, np.newaxis]\n",
        "        print(\"Normalized confusion matrix\")\n",
        "    else:\n",
        "        print('Confusion matrix, without normalization')\n",
        "\n",
        "    print(cm)\n",
        "\n",
        "    thresh = cm.max() / 2.\n",
        "    for i, j in itertools.product(range(cm.shape[0]), range(cm.shape[1])):\n",
        "        plt.text(j, i, cm[i, j],\n",
        "            horizontalalignment=\"center\",\n",
        "            color=\"white\" if cm[i, j] > thresh else \"black\")\n",
        "\n",
        "    plt.tight_layout()\n",
        "    plt.ylabel('True label')\n",
        "    plt.xlabel('Predicted label')"
      ],
      "execution_count": 26,
      "outputs": []
    },
    {
      "cell_type": "code",
      "metadata": {
        "id": "RlZRpsIjljvg"
      },
      "source": [
        "cm = confusion_matrix(y_true=y_test, y_pred=predicted_classes_2)"
      ],
      "execution_count": 28,
      "outputs": []
    },
    {
      "cell_type": "code",
      "metadata": {
        "colab": {
          "base_uri": "https://localhost:8080/",
          "height": 363
        },
        "id": "7dGDNRmUVBWS",
        "outputId": "a545fbca-55da-4a8f-89d3-fbeb63431d73"
      },
      "source": [
        "cm_plot_labels = ['Normal','COVID']\n",
        "plot_confusion_matrix(cm=cm, classes=cm_plot_labels, title='Confusion Matrix')"
      ],
      "execution_count": 29,
      "outputs": [
        {
          "output_type": "stream",
          "name": "stdout",
          "text": [
            "Confusion matrix, without normalization\n",
            "[[2053   15]\n",
            " [  49  645]]\n"
          ]
        },
        {
          "output_type": "display_data",
          "data": {
            "image/png": "[encoded data removed]",
            "text/plain": [
              "<Figure size 432x288 with 2 Axes>"
            ]
          },
          "metadata": {
            "needs_background": "light"
          }
        }
      ]
    },
    {
      "cell_type": "code",
      "metadata": {
        "id": "ZSAX4E6tlSUQ"
      },
      "source": [
        ""
      ],
      "execution_count": null,
      "outputs": []
    }
  ]
}